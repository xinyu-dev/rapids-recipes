{
 "cells": [
  {
   "cell_type": "markdown",
   "id": "90143575",
   "metadata": {},
   "source": [
    "# Minimal Demo of Text2SQL RAG vs cuVS"
   ]
  },
  {
   "cell_type": "code",
   "execution_count": 14,
   "id": "5515452e",
   "metadata": {},
   "outputs": [],
   "source": [
    "import faiss\n",
    "import sys\n",
    "import pandas as pd\n",
    "# add path to the text2sql.py \n",
    "sys.path.append('utils')\n",
    "from dotenv import load_dotenv \n",
    "load_dotenv()\n",
    "import os\n",
    "from text2sql import split_sql_blocks, FAISSRetriever"
   ]
  },
  {
   "cell_type": "markdown",
   "id": "ab45be65",
   "metadata": {},
   "source": [
    "## Prepare demo Q&A data\n",
    "\n"
   ]
  },
  {
   "cell_type": "code",
   "execution_count": 27,
   "id": "3093a8f6",
   "metadata": {},
   "outputs": [
    {
     "data": {
      "text/html": [
       "<div>\n",
       "<style scoped>\n",
       "    .dataframe tbody tr th:only-of-type {\n",
       "        vertical-align: middle;\n",
       "    }\n",
       "\n",
       "    .dataframe tbody tr th {\n",
       "        vertical-align: top;\n",
       "    }\n",
       "\n",
       "    .dataframe thead th {\n",
       "        text-align: right;\n",
       "    }\n",
       "</style>\n",
       "<table border=\"1\" class=\"dataframe\">\n",
       "  <thead>\n",
       "    <tr style=\"text-align: right;\">\n",
       "      <th></th>\n",
       "      <th>questions</th>\n",
       "      <th>labels</th>\n",
       "    </tr>\n",
       "  </thead>\n",
       "  <tbody>\n",
       "    <tr>\n",
       "      <th>0</th>\n",
       "      <td>how many patients were diagnosed with respirat...</td>\n",
       "      <td>select ( select count( distinct t1.uniquepid )...</td>\n",
       "    </tr>\n",
       "    <tr>\n",
       "      <th>1</th>\n",
       "      <td>what is the drug that patient 013-866 was pres...</td>\n",
       "      <td>select t2.drugname from ( select patient.uniqu...</td>\n",
       "    </tr>\n",
       "    <tr>\n",
       "      <th>2</th>\n",
       "      <td>what is the five most frequent drugs that were...</td>\n",
       "      <td>select t3.drugname from ( select t2.drugname, ...</td>\n",
       "    </tr>\n",
       "    <tr>\n",
       "      <th>3</th>\n",
       "      <td>how many metoprolol succinate er 50 mg po tb24...</td>\n",
       "      <td>select count(*) from medication where medicati...</td>\n",
       "    </tr>\n",
       "    <tr>\n",
       "      <th>4</th>\n",
       "      <td>what are the top five frequently prescribed dr...</td>\n",
       "      <td>select t3.drugname from ( select t2.drugname, ...</td>\n",
       "    </tr>\n",
       "    <tr>\n",
       "      <th>5</th>\n",
       "      <td>tell me patient 016-18150's maximum temperatur...</td>\n",
       "      <td>select max(vitalperiodic.temperature) from vit...</td>\n",
       "    </tr>\n",
       "    <tr>\n",
       "      <th>6</th>\n",
       "      <td>what procedure did patient 006-158338 receive ...</td>\n",
       "      <td>select treatment.treatmentname from treatment ...</td>\n",
       "    </tr>\n",
       "    <tr>\n",
       "      <th>7</th>\n",
       "      <td>how many hours have passed since patient 010-1...</td>\n",
       "      <td>select 24 * ( strftime('%j',current_time) - st...</td>\n",
       "    </tr>\n",
       "    <tr>\n",
       "      <th>8</th>\n",
       "      <td>is patient 005-11182's level of heartrate last...</td>\n",
       "      <td>select ( select vitalperiodic.heartrate from v...</td>\n",
       "    </tr>\n",
       "    <tr>\n",
       "      <th>9</th>\n",
       "      <td>the systemicmean of patient 006-167444 second ...</td>\n",
       "      <td>select ( select vitalperiodic.systemicmean fro...</td>\n",
       "    </tr>\n",
       "    <tr>\n",
       "      <th>10</th>\n",
       "      <td>does a microbiological test have been performe...</td>\n",
       "      <td>select count(*)&gt;0 from microlab where microlab...</td>\n",
       "    </tr>\n",
       "    <tr>\n",
       "      <th>11</th>\n",
       "      <td>count the number of times in which patient 017...</td>\n",
       "      <td>select count(*) from intakeoutput where intake...</td>\n",
       "    </tr>\n",
       "    <tr>\n",
       "      <th>12</th>\n",
       "      <td>what are the top four prescription drugs for t...</td>\n",
       "      <td>select t1.drugname from ( select medication.dr...</td>\n",
       "    </tr>\n",
       "    <tr>\n",
       "      <th>13</th>\n",
       "      <td>count the number of patients who were admitted...</td>\n",
       "      <td>select count( distinct patient.uniquepid ) fro...</td>\n",
       "    </tr>\n",
       "    <tr>\n",
       "      <th>14</th>\n",
       "      <td>what were the five most frequently performed p...</td>\n",
       "      <td>select t3.treatmentname from ( select t2.treat...</td>\n",
       "    </tr>\n",
       "    <tr>\n",
       "      <th>15</th>\n",
       "      <td>tell me the number of times patient 006-129568...</td>\n",
       "      <td>select count(*) from lab where lab.patientunit...</td>\n",
       "    </tr>\n",
       "    <tr>\n",
       "      <th>16</th>\n",
       "      <td>when until 2104 patient 013-33898 received a p...</td>\n",
       "      <td>select treatment.treatmenttime from treatment ...</td>\n",
       "    </tr>\n",
       "    <tr>\n",
       "      <th>17</th>\n",
       "      <td>what are the drugs that patient 015-91239 is a...</td>\n",
       "      <td>select allergy.drugname from allergy where all...</td>\n",
       "    </tr>\n",
       "    <tr>\n",
       "      <th>18</th>\n",
       "      <td>is there any results of the urine, voided spec...</td>\n",
       "      <td>select count(*) from microlab where microlab.p...</td>\n",
       "    </tr>\n",
       "    <tr>\n",
       "      <th>19</th>\n",
       "      <td>what is the average hospital cost involving a ...</td>\n",
       "      <td>select avg(t1.c1) from ( select sum(cost.cost)...</td>\n",
       "    </tr>\n",
       "  </tbody>\n",
       "</table>\n",
       "</div>"
      ],
      "text/plain": [
       "                                            questions  \\\n",
       "0   how many patients were diagnosed with respirat...   \n",
       "1   what is the drug that patient 013-866 was pres...   \n",
       "2   what is the five most frequent drugs that were...   \n",
       "3   how many metoprolol succinate er 50 mg po tb24...   \n",
       "4   what are the top five frequently prescribed dr...   \n",
       "5   tell me patient 016-18150's maximum temperatur...   \n",
       "6   what procedure did patient 006-158338 receive ...   \n",
       "7   how many hours have passed since patient 010-1...   \n",
       "8   is patient 005-11182's level of heartrate last...   \n",
       "9   the systemicmean of patient 006-167444 second ...   \n",
       "10  does a microbiological test have been performe...   \n",
       "11  count the number of times in which patient 017...   \n",
       "12  what are the top four prescription drugs for t...   \n",
       "13  count the number of patients who were admitted...   \n",
       "14  what were the five most frequently performed p...   \n",
       "15  tell me the number of times patient 006-129568...   \n",
       "16  when until 2104 patient 013-33898 received a p...   \n",
       "17  what are the drugs that patient 015-91239 is a...   \n",
       "18  is there any results of the urine, voided spec...   \n",
       "19  what is the average hospital cost involving a ...   \n",
       "\n",
       "                                               labels  \n",
       "0   select ( select count( distinct t1.uniquepid )...  \n",
       "1   select t2.drugname from ( select patient.uniqu...  \n",
       "2   select t3.drugname from ( select t2.drugname, ...  \n",
       "3   select count(*) from medication where medicati...  \n",
       "4   select t3.drugname from ( select t2.drugname, ...  \n",
       "5   select max(vitalperiodic.temperature) from vit...  \n",
       "6   select treatment.treatmentname from treatment ...  \n",
       "7   select 24 * ( strftime('%j',current_time) - st...  \n",
       "8   select ( select vitalperiodic.heartrate from v...  \n",
       "9   select ( select vitalperiodic.systemicmean fro...  \n",
       "10  select count(*)>0 from microlab where microlab...  \n",
       "11  select count(*) from intakeoutput where intake...  \n",
       "12  select t1.drugname from ( select medication.dr...  \n",
       "13  select count( distinct patient.uniquepid ) fro...  \n",
       "14  select t3.treatmentname from ( select t2.treat...  \n",
       "15  select count(*) from lab where lab.patientunit...  \n",
       "16  select treatment.treatmenttime from treatment ...  \n",
       "17  select allergy.drugname from allergy where all...  \n",
       "18  select count(*) from microlab where microlab.p...  \n",
       "19  select avg(t1.c1) from ( select sum(cost.cost)...  "
      ]
     },
     "execution_count": 27,
     "metadata": {},
     "output_type": "execute_result"
    }
   ],
   "source": [
    "# a demo example of 20 rows\n",
    "df = pd.read_csv(\"/home/ubuntu/rapids-recipes/text2sql-rag/data/qa_examples.csv\")\n",
    "df"
   ]
  },
  {
   "cell_type": "markdown",
   "id": "95a34d9b",
   "metadata": {},
   "source": [
    "## Config openAI client\n",
    "\n",
    "In here I am using the NIM endpoint for [llama-3_2-nv-embedqa-1b-v2](https://build.nvidia.com/nvidia/llama-3_2-nv-embedqa-1b-v2?snippet_tab=Python), but you can use any OpenAI compatible models"
   ]
  },
  {
   "cell_type": "code",
   "execution_count": 16,
   "id": "803bc8a8",
   "metadata": {},
   "outputs": [],
   "source": [
    "base_url = \"https://integrate.api.nvidia.com/v1\"\n",
    "api_key = os.getenv(\"NGC_API_KEY\")\n",
    "# embedding model name\n",
    "model = \"nvidia/llama-3.2-nv-embedqa-1b-v2\""
   ]
  },
  {
   "cell_type": "markdown",
   "id": "0ec90694",
   "metadata": {},
   "source": [
    "## Embed Q&A Blocks"
   ]
  },
  {
   "cell_type": "markdown",
   "id": "3b68f7d3",
   "metadata": {},
   "source": [
    "### Prepare data to embed"
   ]
  },
  {
   "cell_type": "code",
   "execution_count": 17,
   "id": "5db67ac0",
   "metadata": {},
   "outputs": [
    {
     "data": {
      "text/plain": [
       "['how many patients were diagnosed with respiratory acidosis - chronic and did not come to the hospital in the same month?',\n",
       " 'what is the drug that patient 013-866 was prescribed for after being diagnosed with coronary artery disease - known during the same hospital encounter in 05/this year?',\n",
       " 'what is the five most frequent drugs that were prescribed within 2 months to acute renal failure - etiology unknown female patients aged 30s after having been diagnosed with acute renal failure - etiology unknown, in 2103?',\n",
       " 'how many metoprolol succinate er 50 mg po tb24 prescription cases are there until 4 years ago?',\n",
       " 'what are the top five frequently prescribed drugs that patients have been prescribed in the same hospital encounter after having been diagnosed with acute respiratory failure - due to neurological process until 3 years ago?',\n",
       " \"tell me patient 016-18150's maximum temperature on last month/03?\",\n",
       " 'what procedure did patient 006-158338 receive the last time since 6 years ago.',\n",
       " \"how many hours have passed since patient 010-16572's hospital admission?\",\n",
       " \"is patient 005-11182's level of heartrate last measured on the first icu visit greater than it was first measured on the first icu visit?\",\n",
       " 'the systemicmean of patient 006-167444 second measured on the first intensive care unit visit was less than the first value measured on the first intensive care unit visit?',\n",
       " 'does a microbiological test have been performed for patient 025-44495 since 10/2105?',\n",
       " 'count the number of times in which patient 017-61209 had had a tube feeding flush (ml) intake on 06/10/last year.',\n",
       " 'what are the top four prescription drugs for the patients with age 20s this year?',\n",
       " 'count the number of patients who were admitted until 2102 to the hospital.',\n",
       " 'what were the five most frequently performed procedures for patients who received neurosurgery - drainage of hematoma-craniotomy previously in the same hospital visit until 3 years ago?',\n",
       " 'tell me the number of times patient 006-129568 had received a mode lab test since 5 years ago.',\n",
       " 'when until 2104 patient 013-33898 received a procedure for the last time?',\n",
       " 'what are the drugs that patient 015-91239 is allergic to in their current hospital encounter?',\n",
       " 'is there any results of the urine, voided specimen microbiology test of patient 025-19271?',\n",
       " 'what is the average hospital cost involving a drug that is called cefazolin 2 gm in ns 100 ml ivpb until 2103?']"
      ]
     },
     "execution_count": 17,
     "metadata": {},
     "output_type": "execute_result"
    }
   ],
   "source": [
    "# only need to embed questions\n",
    "# we will retrieve the answer by ID\n",
    "qa_blocks = df['questions'].tolist()\n",
    "\n",
    "qa_blocks"
   ]
  },
  {
   "cell_type": "markdown",
   "id": "99a16175",
   "metadata": {},
   "source": [
    "### Initiate a retriever"
   ]
  },
  {
   "cell_type": "code",
   "execution_count": 18,
   "id": "37e47e3a",
   "metadata": {},
   "outputs": [
    {
     "name": "stderr",
     "output_type": "stream",
     "text": [
      "\u001b[32m2025-08-16 16:16:29.749\u001b[0m | \u001b[1mINFO    \u001b[0m | \u001b[36mtext2sql\u001b[0m:\u001b[36m__init__\u001b[0m:\u001b[36m99\u001b[0m - \u001b[1mGPU resources initialized on device 0\u001b[0m\n"
     ]
    }
   ],
   "source": [
    "# initiate a retrieve for Q&A blcoks\n",
    "retriever = FAISSRetriever(\n",
    "    api_key = api_key, \n",
    "    base_url = base_url,\n",
    "    model = model\n",
    ")"
   ]
  },
  {
   "cell_type": "markdown",
   "id": "097d1b06",
   "metadata": {},
   "source": [
    "### Embed Q&A pairs\n",
    "\n",
    "Take a look at this line: \n",
    "\n",
    "```python\n",
    "# utils/text2sql.py\n",
    "def generate_embedding(self, text):\n",
    "    \"\"\"Generate embedding for a single text\"\"\"\n",
    "    response = self.client.embeddings.create(\n",
    "        input=text,\n",
    "        model=self.model, \n",
    "        encoding_format=\"float\",\n",
    "        extra_body={\"input_type\": \"passage\", \"truncate\": \"NONE\"}\n",
    "    )\n",
    "    return response.data[0].embedding\n",
    "```\n",
    "\n",
    "Note: \n",
    "1. Some embedding models require `extra_body` keywords like `passage`, some do not. Adjust accordingly. \n",
    "2. If your model differentiates `passage` and `query` embeddings, use `passage` embeddding for index and query has shown slighlty better accuracy in this RAG workflow\n"
   ]
  },
  {
   "cell_type": "code",
   "execution_count": 19,
   "id": "6b0a0a86",
   "metadata": {},
   "outputs": [
    {
     "name": "stderr",
     "output_type": "stream",
     "text": [
      "\u001b[32m2025-08-16 16:16:50.663\u001b[0m | \u001b[33m\u001b[1mWARNING \u001b[0m | \u001b[36mtext2sql\u001b[0m:\u001b[36membed_blocks\u001b[0m:\u001b[36m126\u001b[0m - \u001b[33m\u001b[1mNo cached embeddings for DDL found\u001b[0m\n",
      "\u001b[32m2025-08-16 16:16:50.664\u001b[0m | \u001b[1mINFO    \u001b[0m | \u001b[36mtext2sql\u001b[0m:\u001b[36membed_blocks\u001b[0m:\u001b[36m129\u001b[0m - \u001b[1mGenerating embeddings for 20 DDL blocks...\u001b[0m\n",
      "\u001b[32m2025-08-16 16:16:50.664\u001b[0m | \u001b[1mINFO    \u001b[0m | \u001b[36mtext2sql\u001b[0m:\u001b[36membed_blocks\u001b[0m:\u001b[36m133\u001b[0m - \u001b[1mProcessing block 1/20\u001b[0m\n",
      "\u001b[32m2025-08-16 16:16:51.343\u001b[0m | \u001b[1mINFO    \u001b[0m | \u001b[36mtext2sql\u001b[0m:\u001b[36membed_blocks\u001b[0m:\u001b[36m133\u001b[0m - \u001b[1mProcessing block 2/20\u001b[0m\n",
      "\u001b[32m2025-08-16 16:16:51.951\u001b[0m | \u001b[1mINFO    \u001b[0m | \u001b[36mtext2sql\u001b[0m:\u001b[36membed_blocks\u001b[0m:\u001b[36m133\u001b[0m - \u001b[1mProcessing block 3/20\u001b[0m\n",
      "\u001b[32m2025-08-16 16:16:52.544\u001b[0m | \u001b[1mINFO    \u001b[0m | \u001b[36mtext2sql\u001b[0m:\u001b[36membed_blocks\u001b[0m:\u001b[36m133\u001b[0m - \u001b[1mProcessing block 4/20\u001b[0m\n",
      "\u001b[32m2025-08-16 16:16:52.875\u001b[0m | \u001b[1mINFO    \u001b[0m | \u001b[36mtext2sql\u001b[0m:\u001b[36membed_blocks\u001b[0m:\u001b[36m133\u001b[0m - \u001b[1mProcessing block 5/20\u001b[0m\n",
      "\u001b[32m2025-08-16 16:16:53.186\u001b[0m | \u001b[1mINFO    \u001b[0m | \u001b[36mtext2sql\u001b[0m:\u001b[36membed_blocks\u001b[0m:\u001b[36m133\u001b[0m - \u001b[1mProcessing block 6/20\u001b[0m\n",
      "\u001b[32m2025-08-16 16:16:53.494\u001b[0m | \u001b[1mINFO    \u001b[0m | \u001b[36mtext2sql\u001b[0m:\u001b[36membed_blocks\u001b[0m:\u001b[36m133\u001b[0m - \u001b[1mProcessing block 7/20\u001b[0m\n",
      "\u001b[32m2025-08-16 16:16:53.804\u001b[0m | \u001b[1mINFO    \u001b[0m | \u001b[36mtext2sql\u001b[0m:\u001b[36membed_blocks\u001b[0m:\u001b[36m133\u001b[0m - \u001b[1mProcessing block 8/20\u001b[0m\n",
      "\u001b[32m2025-08-16 16:16:54.110\u001b[0m | \u001b[1mINFO    \u001b[0m | \u001b[36mtext2sql\u001b[0m:\u001b[36membed_blocks\u001b[0m:\u001b[36m133\u001b[0m - \u001b[1mProcessing block 9/20\u001b[0m\n",
      "\u001b[32m2025-08-16 16:16:54.416\u001b[0m | \u001b[1mINFO    \u001b[0m | \u001b[36mtext2sql\u001b[0m:\u001b[36membed_blocks\u001b[0m:\u001b[36m133\u001b[0m - \u001b[1mProcessing block 10/20\u001b[0m\n",
      "\u001b[32m2025-08-16 16:16:54.725\u001b[0m | \u001b[1mINFO    \u001b[0m | \u001b[36mtext2sql\u001b[0m:\u001b[36membed_blocks\u001b[0m:\u001b[36m133\u001b[0m - \u001b[1mProcessing block 11/20\u001b[0m\n",
      "\u001b[32m2025-08-16 16:16:55.036\u001b[0m | \u001b[1mINFO    \u001b[0m | \u001b[36mtext2sql\u001b[0m:\u001b[36membed_blocks\u001b[0m:\u001b[36m133\u001b[0m - \u001b[1mProcessing block 12/20\u001b[0m\n",
      "\u001b[32m2025-08-16 16:16:55.342\u001b[0m | \u001b[1mINFO    \u001b[0m | \u001b[36mtext2sql\u001b[0m:\u001b[36membed_blocks\u001b[0m:\u001b[36m133\u001b[0m - \u001b[1mProcessing block 13/20\u001b[0m\n",
      "\u001b[32m2025-08-16 16:16:55.650\u001b[0m | \u001b[1mINFO    \u001b[0m | \u001b[36mtext2sql\u001b[0m:\u001b[36membed_blocks\u001b[0m:\u001b[36m133\u001b[0m - \u001b[1mProcessing block 14/20\u001b[0m\n",
      "\u001b[32m2025-08-16 16:16:55.955\u001b[0m | \u001b[1mINFO    \u001b[0m | \u001b[36mtext2sql\u001b[0m:\u001b[36membed_blocks\u001b[0m:\u001b[36m133\u001b[0m - \u001b[1mProcessing block 15/20\u001b[0m\n",
      "\u001b[32m2025-08-16 16:16:56.261\u001b[0m | \u001b[1mINFO    \u001b[0m | \u001b[36mtext2sql\u001b[0m:\u001b[36membed_blocks\u001b[0m:\u001b[36m133\u001b[0m - \u001b[1mProcessing block 16/20\u001b[0m\n",
      "\u001b[32m2025-08-16 16:16:56.570\u001b[0m | \u001b[1mINFO    \u001b[0m | \u001b[36mtext2sql\u001b[0m:\u001b[36membed_blocks\u001b[0m:\u001b[36m133\u001b[0m - \u001b[1mProcessing block 17/20\u001b[0m\n",
      "\u001b[32m2025-08-16 16:16:56.879\u001b[0m | \u001b[1mINFO    \u001b[0m | \u001b[36mtext2sql\u001b[0m:\u001b[36membed_blocks\u001b[0m:\u001b[36m133\u001b[0m - \u001b[1mProcessing block 18/20\u001b[0m\n",
      "\u001b[32m2025-08-16 16:16:57.186\u001b[0m | \u001b[1mINFO    \u001b[0m | \u001b[36mtext2sql\u001b[0m:\u001b[36membed_blocks\u001b[0m:\u001b[36m133\u001b[0m - \u001b[1mProcessing block 19/20\u001b[0m\n",
      "\u001b[32m2025-08-16 16:16:57.498\u001b[0m | \u001b[1mINFO    \u001b[0m | \u001b[36mtext2sql\u001b[0m:\u001b[36membed_blocks\u001b[0m:\u001b[36m133\u001b[0m - \u001b[1mProcessing block 20/20\u001b[0m\n",
      "\u001b[32m2025-08-16 16:16:57.805\u001b[0m | \u001b[32m\u001b[1mSUCCESS \u001b[0m | \u001b[36mtext2sql\u001b[0m:\u001b[36membed_blocks\u001b[0m:\u001b[36m143\u001b[0m - \u001b[32m\u001b[1mEmbedded blocks saved to cache/qa_blocks_embedding.pkl\u001b[0m\n",
      "\u001b[32m2025-08-16 16:16:58.023\u001b[0m | \u001b[1mINFO    \u001b[0m | \u001b[36mtext2sql\u001b[0m:\u001b[36m_create_index\u001b[0m:\u001b[36m162\u001b[0m - \u001b[1mGPU cuVS FAISS index created with 20 entries\u001b[0m\n"
     ]
    }
   ],
   "source": [
    "# in here, we will cache the embedding to a pickle file. \n",
    "# when there is a actual \"cache/qa_blocks_embedding.pkl\" file, embedding will be skipped . We will simply load the embedding from cahce file \n",
    "# if there is no \"cache/qa_blocks_embedding.pkl\" file, embedding will be generated and cached to the file. \n",
    "retriever.embed_blocks(\n",
    "    text_blocks = qa_blocks, \n",
    "    cache_file = \"cache/qa_blocks_embedding.pkl\"\n",
    ")"
   ]
  },
  {
   "cell_type": "markdown",
   "id": "a46ce29d",
   "metadata": {},
   "source": [
    "### Retrieve relevant questions"
   ]
  },
  {
   "cell_type": "code",
   "execution_count": 20,
   "id": "9415342f",
   "metadata": {},
   "outputs": [
    {
     "name": "stderr",
     "output_type": "stream",
     "text": [
      "\u001b[32m2025-08-16 16:20:58.931\u001b[0m | \u001b[1mINFO    \u001b[0m | \u001b[36mtext2sql\u001b[0m:\u001b[36mretrieve\u001b[0m:\u001b[36m179\u001b[0m - \u001b[1mGenerating query embedding...\u001b[0m\n",
      "\u001b[32m2025-08-16 16:20:59.272\u001b[0m | \u001b[1mINFO    \u001b[0m | \u001b[36mtext2sql\u001b[0m:\u001b[36mretrieve\u001b[0m:\u001b[36m183\u001b[0m - \u001b[1mSearching for top 5 blocks...\u001b[0m\n"
     ]
    }
   ],
   "source": [
    "result = retriever.retrieve(\n",
    "    query = \"tell me the method of intake of oxycodone hcl 5 mg po tabs (range) prn?\",\n",
    "    top_k = 5 \n",
    ")"
   ]
  },
  {
   "cell_type": "code",
   "execution_count": 21,
   "id": "59d18b02",
   "metadata": {},
   "outputs": [
    {
     "data": {
      "text/plain": [
       "[{'block_id': 3,\n",
       "  'content': 'how many metoprolol succinate er 50 mg po tb24 prescription cases are there until 4 years ago?',\n",
       "  'distance': 1.2504723072052002},\n",
       " {'block_id': 12,\n",
       "  'content': 'what are the top four prescription drugs for the patients with age 20s this year?',\n",
       "  'distance': 1.2997231483459473},\n",
       " {'block_id': 5,\n",
       "  'content': \"tell me patient 016-18150's maximum temperature on last month/03?\",\n",
       "  'distance': 1.3128423690795898},\n",
       " {'block_id': 15,\n",
       "  'content': 'tell me the number of times patient 006-129568 had received a mode lab test since 5 years ago.',\n",
       "  'distance': 1.3216073513031006},\n",
       " {'block_id': 18,\n",
       "  'content': 'is there any results of the urine, voided specimen microbiology test of patient 025-19271?',\n",
       "  'distance': 1.3279691934585571}]"
      ]
     },
     "execution_count": 21,
     "metadata": {},
     "output_type": "execute_result"
    }
   ],
   "source": [
    "result"
   ]
  },
  {
   "cell_type": "markdown",
   "id": "6299bf3c",
   "metadata": {},
   "source": [
    "Because we only have a small demo dataset, the questions might not look super relevant. "
   ]
  },
  {
   "cell_type": "markdown",
   "id": "9ad17dde",
   "metadata": {},
   "source": [
    "### Retrieve the answer"
   ]
  },
  {
   "cell_type": "code",
   "execution_count": 25,
   "id": "2799ee3c",
   "metadata": {},
   "outputs": [
    {
     "data": {
      "text/plain": [
       "[{'question': 'how many metoprolol succinate er 50 mg po tb24 prescription cases are there until 4 years ago?',\n",
       "  'answer': \"select count(*) from medication where medication.drugname = 'metoprolol succinate er 50 mg po tb24' and datetime(medication.drugstarttime) <= datetime(current_time,'-4 year')\"},\n",
       " {'question': 'what are the top four prescription drugs for the patients with age 20s this year?',\n",
       "  'answer': \"select t1.drugname from ( select medication.drugname, dense_rank() over ( order by count(*) desc ) as c1 from medication where medication.patientunitstayid in ( select patient.patientunitstayid from patient where patient.age between 20 and 29 ) and datetime(medication.drugstarttime,'start of year') = datetime(current_time,'start of year','-0 year') group by medication.drugname ) as t1 where t1.c1 <= 4\"},\n",
       " {'question': \"tell me patient 016-18150's maximum temperature on last month/03?\",\n",
       "  'answer': \"select max(vitalperiodic.temperature) from vitalperiodic where vitalperiodic.patientunitstayid in ( select patient.patientunitstayid from patient where patient.patienthealthsystemstayid in ( select patient.patienthealthsystemstayid from patient where patient.uniquepid = '016-18150' ) ) and vitalperiodic.temperature is not null and datetime(vitalperiodic.observationtime,'start of month') = datetime(current_time,'start of month','-1 month') and strftime('%d',vitalperiodic.observationtime) = '03'\"},\n",
       " {'question': 'tell me the number of times patient 006-129568 had received a mode lab test since 5 years ago.',\n",
       "  'answer': \"select count(*) from lab where lab.patientunitstayid in ( select patient.patientunitstayid from patient where patient.patienthealthsystemstayid in ( select patient.patienthealthsystemstayid from patient where patient.uniquepid = '006-129568' ) ) and lab.labname = 'mode' and datetime(lab.labresulttime) >= datetime(current_time,'-5 year')\"},\n",
       " {'question': 'is there any results of the urine, voided specimen microbiology test of patient 025-19271?',\n",
       "  'answer': \"select count(*) from microlab where microlab.patientunitstayid in ( select patient.patientunitstayid from patient where patient.patienthealthsystemstayid in ( select patient.patienthealthsystemstayid from patient where patient.uniquepid = '025-19271' ) ) and microlab.culturesite = 'urine, voided specimen'\"}]"
      ]
     },
     "execution_count": 25,
     "metadata": {},
     "output_type": "execute_result"
    }
   ],
   "source": [
    "result_clean = []\n",
    "for r in result: \n",
    "    question = r['content']\n",
    "    row_id = r['block_id']\n",
    "    answer = df.loc[row_id, 'labels']\n",
    "    result_clean.append({\n",
    "        'question': question, \n",
    "        'answer': answer,\n",
    "    })\n",
    "\n",
    "result_clean"
   ]
  },
  {
   "cell_type": "markdown",
   "id": "8a8cbc28",
   "metadata": {},
   "source": [
    "You can then take the retrieved results and embed into your prompt!"
   ]
  },
  {
   "cell_type": "markdown",
   "id": "e0d2cd7e",
   "metadata": {},
   "source": [
    "## Embed DDL RAG"
   ]
  },
  {
   "cell_type": "markdown",
   "id": "f6763227",
   "metadata": {},
   "source": [
    "### Prepare data to be embedded\n",
    "\n",
    "Take a look at `utils/text2sql.py`. The `split_sql_blocks` splits the DDL schema into intact chunks. \n",
    "\n",
    "Adjust this function as needed so that each DDL chunk should be an intact SQL statement \n",
    "\n",
    "```python\n",
    "def split_sql_blocks(file_path: str) -> list[str]:\n",
    "    \"\"\"\n",
    "    file_path: path to the `eicu_instruct_benchmark_rag.sql` file\n",
    "    Read an SQL file and split it into blocks of code.\n",
    "    Each block contains a DROP TABLE and CREATE TABLE statement for one table.\n",
    "    \"\"\"\n",
    "    # Read the file content\n",
    "    with open(file_path, 'r') as f:\n",
    "        content = f.read()\n",
    "    \n",
    "    # Split by \"DROP TABLE IF EXISTS\" statements\n",
    "    # This pattern looks for DROP TABLE at the start of a line\n",
    "    pattern = r'^DROP TABLE IF EXISTS'\n",
    "    \n",
    "    # Find all positions where DROP TABLE statements start\n",
    "    lines = content.split('\\n')\n",
    "    block_starts = []\n",
    "    \n",
    "    for i, line in enumerate(lines):\n",
    "        if re.match(pattern, line.strip()):\n",
    "            block_starts.append(i)\n",
    "    \n",
    "    # Add the end of file as the last position\n",
    "    block_starts.append(len(lines))\n",
    "    \n",
    "    # Extract blocks\n",
    "    blocks = []\n",
    "    for i in range(len(block_starts) - 1):\n",
    "        start_line = block_starts[i]\n",
    "        end_line = block_starts[i + 1]\n",
    "        \n",
    "        # Join lines for this block\n",
    "        block_lines = lines[start_line:end_line]\n",
    "        \n",
    "        # Remove empty lines at the end of the block\n",
    "        while block_lines and block_lines[-1].strip() == '':\n",
    "            block_lines.pop()\n",
    "        \n",
    "        if block_lines:\n",
    "            block = '\\n'.join(block_lines)\n",
    "            blocks.append(block)\n",
    "    \n",
    "    return blocks\n",
    "```"
   ]
  },
  {
   "cell_type": "code",
   "execution_count": 28,
   "id": "d9624ca3",
   "metadata": {},
   "outputs": [
    {
     "data": {
      "text/plain": [
       "['DROP TABLE IF EXISTS patient;\\nCREATE TABLE patient    -- store patient demographics and admission information\\n(\\n    uniquepid VARCHAR(10) NOT NULL, -- Unique patient identifier across the system\\n    patienthealthsystemstayid INT NOT NULL, -- Unique ID for patient\\'s entire hospital stay\\n    patientunitstayid INT NOT NULL PRIMARY KEY, -- Unique ID for the patient\\'s ICU stay\\n    gender VARCHAR(25) NOT NULL, -- Gender of the patient (\"female\" or \"male\") (lowercase)\\n    age VARCHAR(10) NOT NULL, -- Age at admission (can be in years or an age category)\\n    ethnicity VARCHAR(50), -- Ethnicity of the patient (e.g: \"caucasian\", \"native american\", \"hispanic\", \"african american\", \"other/unknown\", \"asian\" or null) (lowercase)\\n    hospitalid INT NOT NULL, -- ID of the hospital\\n    wardid INT NOT NULL, -- ID of the hospital ward/unit\\n    admissionheight NUMERIC(10,2), -- Patient\\'s height on admission (in cm)\\n    admissionweight NUMERIC(10,2), -- Weight on admission (in kg)\\n    dischargeweight NUMERIC(10,2), -- Weight at discharge (in kg)\\n    hospitaladmittime TIMESTAMP(0) NOT NULL, -- Time patient was admitted to hospital\\n    hospitaladmitsource VARCHAR(30) NOT NULL, -- Source of hospital admission (e.g., \"operating room\", \"floor\", \"other hospital\", \"emergency department\", \"direct admit\", \"step-down unit (sdu)\", \"acute care/floor\", \"recovery room\", \"icu to sdu\", \"other icu\" or \"pacu\") (lowercase)\\n    unitadmittime TIMESTAMP(0) NOT NULL, -- Time of ICU admission\\n    unitdischargetime TIMESTAMP(0), -- Time of ICU discharge\\n    hospitaldischargetime TIMESTAMP(0), -- Time of hospital discharge\\n    hospitaldischargestatus VARCHAR(10) -- Discharge status (e.g., \"alive\", \"expired\" or null)\\n);',\n",
       " 'DROP TABLE IF EXISTS diagnosis;\\nCREATE TABLE diagnosis  -- store diagnoses assigned during ICU stay\\n(\\n    diagnosisid INT NOT NULL PRIMARY KEY, -- Unique diagnosis record ID\\n    patientunitstayid INT NOT NULL, -- ICU stay ID (FK to patient)\\n    diagnosisname VARCHAR(200) NOT NULL, -- Full name of diagnosis (lowercase)\\n    diagnosistime TIMESTAMP(0) NOT NULL, -- Time diagnosis was recorded\\n    icd9code VARCHAR(100), -- ICD-9 code of the diagnosis\\n    FOREIGN KEY(patientunitstayid) REFERENCES patient(patientunitstayid)\\n);',\n",
       " 'DROP TABLE IF EXISTS treatment;\\nCREATE TABLE treatment  -- store treatments administered during ICU stay\\n(\\n    treatmentid INT NOT NULL PRIMARY KEY, -- Unique treatment record ID\\n    patientunitstayid INT NOT NULL, -- ICU stay ID (FK to patient)\\n    treatmentname VARCHAR(200) NOT NULL, -- Name of the treatment administered (lowercase)\\n    treatmenttime TIMESTAMP(0) NOT NULL, -- Time the treatment was given\\n    FOREIGN KEY(patientunitstayid) REFERENCES patient(patientunitstayid)\\n);',\n",
       " 'DROP TABLE IF EXISTS lab;\\nCREATE TABLE lab  -- store lab test results\\n(\\n    labid INT NOT NULL PRIMARY KEY, -- Unique lab test result ID\\n    patientunitstayid INT NOT NULL, -- ICU stay ID (FK to patient)\\n    labname VARCHAR(256) NOT NULL, -- Name of the lab test (lowercase)\\n    labresult NUMERIC(11,4) NOT NULL, -- Result value\\n    labresulttime TIMESTAMP(0) NOT NULL, -- Time when the lab result was recorded\\n    FOREIGN KEY(patientunitstayid) REFERENCES patient(patientunitstayid)\\n);',\n",
       " 'DROP TABLE IF EXISTS medication;\\nCREATE TABLE medication  -- store medication administration records\\n(\\n    medicationid INT NOT NULL PRIMARY KEY, -- Unique medication record ID\\n    patientunitstayid INT NOT NULL, -- ICU stay ID (FK to patient)\\n    drugname VARCHAR(220) NOT NULL, -- Name of the medication (lowercase)\\n    dosage VARCHAR(60) NOT NULL, -- Dosage of the drug\\n    routeadmin VARCHAR(120) NOT NULL, -- Route of administration (e.g., \"iv\", \"po\", ...etc) (lowercase)\\n    drugstarttime TIMESTAMP(0), -- Time drug administration started\\n    drugstoptime TIMESTAMP(0), -- Time drug administration stopped\\n    FOREIGN KEY(patientunitstayid) REFERENCES patient(patientunitstayid)\\n);',\n",
       " 'DROP TABLE IF EXISTS cost;\\nCREATE TABLE cost  -- store cost-related data for services provided\\n(\\n    costid INT NOT NULL PRIMARY KEY, -- Unique cost record ID\\n    uniquepid VARCHAR(10) NOT NULL, -- Unique patient ID (can appear in multiple ICU stays)\\n    patienthealthsystemstayid INT NOT NULL, -- Hospital stay ID (FK to patient)\\n    eventtype VARCHAR(20) NOT NULL, -- Type of billable event (e.g., \"diagnosis\", \"lab\", \"treatment\" or \"medication\") (lowercase)\\n    eventid INT NOT NULL, -- Associated event ID (maps to treatment, lab, etc.)\\n    chargetime TIMESTAMP(0) NOT NULL, -- Time the cost was charged\\n    cost DOUBLE PRECISION NOT NULL, -- Cost value\\n    FOREIGN KEY(patienthealthsystemstayid) REFERENCES patient(patienthealthsystemstayid)\\n);',\n",
       " 'DROP TABLE IF EXISTS allergy;\\nCREATE TABLE allergy  -- store drug-related allergy information\\n(\\n    allergyid INT NOT NULL PRIMARY KEY, -- Unique allergy record ID\\n    patientunitstayid INT NOT NULL, -- ICU stay ID (FK to patient)\\n    drugname VARCHAR(255), -- Drug name associated with allergy (if any) (lowercase)\\n    allergyname VARCHAR(255) NOT NULL, -- Description of the allergy (lowercase)\\n    allergytime TIMESTAMP(0) NOT NULL, -- Time allergy was recorded\\n    FOREIGN KEY(patientunitstayid) REFERENCES patient(patientunitstayid)\\n);',\n",
       " 'DROP TABLE IF EXISTS intakeoutput;\\nCREATE TABLE intakeoutput  -- store intake/output measurements (fluids, urine, etc.)\\n(\\n    intakeoutputid INT NOT NULL PRIMARY KEY, -- Unique intake/output record ID\\n    patientunitstayid INT NOT NULL, -- ICU stay ID (FK to patient)\\n    cellpath VARCHAR(500) NOT NULL, -- Hierarchical label/path (lowercase)   \\n    celllabel VARCHAR(255) NOT NULL, -- Label describing the intake/output (lowercase)\\n    cellvaluenumeric NUMERIC(12,4) NOT NULL, -- Volume or quantity recorded\\n    intakeoutputtime TIMESTAMP(0) NOT NULL, -- Time of measurement\\n    FOREIGN KEY(patientunitstayid) REFERENCES patient(patientunitstayid)\\n);',\n",
       " 'DROP TABLE IF EXISTS microlab;\\nCREATE TABLE microlab  -- store microbiology lab culture results\\n(\\n    microlabid INT NOT NULL PRIMARY KEY, -- Unique microbiology lab result ID\\n    patientunitstayid INT NOT NULL, -- ICU stay ID (FK to patient)\\n    culturesite VARCHAR(255) NOT NULL, -- Site of culture collection (e.g., \"blood\", \"urine\") (lowercase)\\n    organism VARCHAR(255) NOT NULL, -- Identified organism (e.g., \"escherichia coli\", \"mixed flora\", \"pseudomonas aeruginosa\", ...etc) (lowercase)\\n    culturetakentime TIMESTAMP(0) NOT NULL, -- Time culture was taken\\n    FOREIGN KEY(patientunitstayid) REFERENCES patient(patientunitstayid)\\n);',\n",
       " 'DROP TABLE IF EXISTS vitalperiodic;\\nCREATE TABLE vitalperiodic  -- store periodic vital signs measured during ICU stay\\n(\\n    vitalperiodicid BIGINT NOT NULL PRIMARY KEY, -- Unique ID for vital sign entry\\n    patientunitstayid INT NOT NULL, -- ICU stay ID (FK to patient)\\n    temperature NUMERIC(11,4), -- Body temperature (Celsius)\\n    sao2 INT, -- Oxygen saturation (%)\\n    heartrate INT, -- Heart rate (bpm)\\n    respiration INT, -- Respiratory rate (breaths per minute)\\n    systemicsystolic INT, -- Systolic blood pressure (mmHg)\\n    systemicdiastolic INT, -- Diastolic blood pressure (mmHg)\\n    systemicmean INT, -- Mean arterial pressure (mmHg)\\n    observationtime TIMESTAMP(0) NOT NULL, -- Time of observation\\n    FOREIGN KEY(patientunitstayid) REFERENCES patient(patientunitstayid)\\n);']"
      ]
     },
     "execution_count": 28,
     "metadata": {},
     "output_type": "execute_result"
    }
   ],
   "source": [
    "ddl_blocks = split_sql_blocks(\"data/eicu_instruct_benchmark_rag.sql\")\n",
    "ddl_blocks"
   ]
  },
  {
   "cell_type": "markdown",
   "id": "5b0ac5fe",
   "metadata": {},
   "source": [
    "### Initiate a retriever\n",
    "\n",
    "For DDL embedding, make sure your embedding model has sufficient context window"
   ]
  },
  {
   "cell_type": "code",
   "execution_count": 29,
   "id": "63a4e11b",
   "metadata": {},
   "outputs": [
    {
     "name": "stderr",
     "output_type": "stream",
     "text": [
      "\u001b[32m2025-08-16 16:31:50.509\u001b[0m | \u001b[1mINFO    \u001b[0m | \u001b[36mtext2sql\u001b[0m:\u001b[36m__init__\u001b[0m:\u001b[36m99\u001b[0m - \u001b[1mGPU resources initialized on device 0\u001b[0m\n"
     ]
    }
   ],
   "source": [
    "# initiate a retrieve for Q&A blcoks\n",
    "retriever = FAISSRetriever(\n",
    "    api_key = api_key, \n",
    "    base_url = base_url,\n",
    "    model = model\n",
    ")"
   ]
  },
  {
   "cell_type": "markdown",
   "id": "feb1eb06",
   "metadata": {},
   "source": [
    "### Embed DDL blocks"
   ]
  },
  {
   "cell_type": "code",
   "execution_count": 30,
   "id": "34a09ce3",
   "metadata": {},
   "outputs": [
    {
     "name": "stderr",
     "output_type": "stream",
     "text": [
      "\u001b[32m2025-08-16 16:33:35.697\u001b[0m | \u001b[33m\u001b[1mWARNING \u001b[0m | \u001b[36mtext2sql\u001b[0m:\u001b[36membed_blocks\u001b[0m:\u001b[36m126\u001b[0m - \u001b[33m\u001b[1mNo cached embeddings for DDL found\u001b[0m\n",
      "\u001b[32m2025-08-16 16:33:35.697\u001b[0m | \u001b[1mINFO    \u001b[0m | \u001b[36mtext2sql\u001b[0m:\u001b[36membed_blocks\u001b[0m:\u001b[36m129\u001b[0m - \u001b[1mGenerating embeddings for 10 DDL blocks...\u001b[0m\n",
      "\u001b[32m2025-08-16 16:33:35.698\u001b[0m | \u001b[1mINFO    \u001b[0m | \u001b[36mtext2sql\u001b[0m:\u001b[36membed_blocks\u001b[0m:\u001b[36m133\u001b[0m - \u001b[1mProcessing block 1/10\u001b[0m\n",
      "\u001b[32m2025-08-16 16:33:36.382\u001b[0m | \u001b[1mINFO    \u001b[0m | \u001b[36mtext2sql\u001b[0m:\u001b[36membed_blocks\u001b[0m:\u001b[36m133\u001b[0m - \u001b[1mProcessing block 2/10\u001b[0m\n",
      "\u001b[32m2025-08-16 16:33:37.186\u001b[0m | \u001b[1mINFO    \u001b[0m | \u001b[36mtext2sql\u001b[0m:\u001b[36membed_blocks\u001b[0m:\u001b[36m133\u001b[0m - \u001b[1mProcessing block 3/10\u001b[0m\n",
      "\u001b[32m2025-08-16 16:33:37.772\u001b[0m | \u001b[1mINFO    \u001b[0m | \u001b[36mtext2sql\u001b[0m:\u001b[36membed_blocks\u001b[0m:\u001b[36m133\u001b[0m - \u001b[1mProcessing block 4/10\u001b[0m\n",
      "\u001b[32m2025-08-16 16:33:38.086\u001b[0m | \u001b[1mINFO    \u001b[0m | \u001b[36mtext2sql\u001b[0m:\u001b[36membed_blocks\u001b[0m:\u001b[36m133\u001b[0m - \u001b[1mProcessing block 5/10\u001b[0m\n",
      "\u001b[32m2025-08-16 16:33:38.395\u001b[0m | \u001b[1mINFO    \u001b[0m | \u001b[36mtext2sql\u001b[0m:\u001b[36membed_blocks\u001b[0m:\u001b[36m133\u001b[0m - \u001b[1mProcessing block 6/10\u001b[0m\n",
      "\u001b[32m2025-08-16 16:33:38.703\u001b[0m | \u001b[1mINFO    \u001b[0m | \u001b[36mtext2sql\u001b[0m:\u001b[36membed_blocks\u001b[0m:\u001b[36m133\u001b[0m - \u001b[1mProcessing block 7/10\u001b[0m\n",
      "\u001b[32m2025-08-16 16:33:39.014\u001b[0m | \u001b[1mINFO    \u001b[0m | \u001b[36mtext2sql\u001b[0m:\u001b[36membed_blocks\u001b[0m:\u001b[36m133\u001b[0m - \u001b[1mProcessing block 8/10\u001b[0m\n",
      "\u001b[32m2025-08-16 16:33:39.319\u001b[0m | \u001b[1mINFO    \u001b[0m | \u001b[36mtext2sql\u001b[0m:\u001b[36membed_blocks\u001b[0m:\u001b[36m133\u001b[0m - \u001b[1mProcessing block 9/10\u001b[0m\n",
      "\u001b[32m2025-08-16 16:33:39.647\u001b[0m | \u001b[1mINFO    \u001b[0m | \u001b[36mtext2sql\u001b[0m:\u001b[36membed_blocks\u001b[0m:\u001b[36m133\u001b[0m - \u001b[1mProcessing block 10/10\u001b[0m\n",
      "\u001b[32m2025-08-16 16:33:39.960\u001b[0m | \u001b[32m\u001b[1mSUCCESS \u001b[0m | \u001b[36mtext2sql\u001b[0m:\u001b[36membed_blocks\u001b[0m:\u001b[36m143\u001b[0m - \u001b[32m\u001b[1mEmbedded blocks saved to cache/ddl_blocks_embedding.pkl\u001b[0m\n",
      "\u001b[32m2025-08-16 16:33:40.040\u001b[0m | \u001b[1mINFO    \u001b[0m | \u001b[36mtext2sql\u001b[0m:\u001b[36m_create_index\u001b[0m:\u001b[36m162\u001b[0m - \u001b[1mGPU cuVS FAISS index created with 10 entries\u001b[0m\n"
     ]
    }
   ],
   "source": [
    "# in here, we will cache the embedding to a pickle file. \n",
    "# when there is a actual \"cache/qa_blocks_embedding.pkl\" file, embedding will be skipped . We will simply load the embedding from cahce file \n",
    "# if there is no \"cache/qa_blocks_embedding.pkl\" file, embedding will be generated and cached to the file. \n",
    "retriever.embed_blocks(\n",
    "    text_blocks = ddl_blocks, \n",
    "    cache_file = \"cache/ddl_blocks_embedding.pkl\"\n",
    ")"
   ]
  },
  {
   "cell_type": "markdown",
   "id": "a25cc896",
   "metadata": {},
   "source": [
    "### Retrieve relevant DDL blocks"
   ]
  },
  {
   "cell_type": "code",
   "execution_count": 31,
   "id": "4bfc52ba",
   "metadata": {},
   "outputs": [
    {
     "name": "stderr",
     "output_type": "stream",
     "text": [
      "\u001b[32m2025-08-16 16:34:24.073\u001b[0m | \u001b[1mINFO    \u001b[0m | \u001b[36mtext2sql\u001b[0m:\u001b[36mretrieve\u001b[0m:\u001b[36m179\u001b[0m - \u001b[1mGenerating query embedding...\u001b[0m\n",
      "\u001b[32m2025-08-16 16:34:24.392\u001b[0m | \u001b[1mINFO    \u001b[0m | \u001b[36mtext2sql\u001b[0m:\u001b[36mretrieve\u001b[0m:\u001b[36m183\u001b[0m - \u001b[1mSearching for top 5 blocks...\u001b[0m\n"
     ]
    },
    {
     "data": {
      "text/plain": [
       "[{'block_id': 4,\n",
       "  'content': 'DROP TABLE IF EXISTS medication;\\nCREATE TABLE medication  -- store medication administration records\\n(\\n    medicationid INT NOT NULL PRIMARY KEY, -- Unique medication record ID\\n    patientunitstayid INT NOT NULL, -- ICU stay ID (FK to patient)\\n    drugname VARCHAR(220) NOT NULL, -- Name of the medication (lowercase)\\n    dosage VARCHAR(60) NOT NULL, -- Dosage of the drug\\n    routeadmin VARCHAR(120) NOT NULL, -- Route of administration (e.g., \"iv\", \"po\", ...etc) (lowercase)\\n    drugstarttime TIMESTAMP(0), -- Time drug administration started\\n    drugstoptime TIMESTAMP(0), -- Time drug administration stopped\\n    FOREIGN KEY(patientunitstayid) REFERENCES patient(patientunitstayid)\\n);',\n",
       "  'distance': 1.5134518146514893},\n",
       " {'block_id': 9,\n",
       "  'content': 'DROP TABLE IF EXISTS vitalperiodic;\\nCREATE TABLE vitalperiodic  -- store periodic vital signs measured during ICU stay\\n(\\n    vitalperiodicid BIGINT NOT NULL PRIMARY KEY, -- Unique ID for vital sign entry\\n    patientunitstayid INT NOT NULL, -- ICU stay ID (FK to patient)\\n    temperature NUMERIC(11,4), -- Body temperature (Celsius)\\n    sao2 INT, -- Oxygen saturation (%)\\n    heartrate INT, -- Heart rate (bpm)\\n    respiration INT, -- Respiratory rate (breaths per minute)\\n    systemicsystolic INT, -- Systolic blood pressure (mmHg)\\n    systemicdiastolic INT, -- Diastolic blood pressure (mmHg)\\n    systemicmean INT, -- Mean arterial pressure (mmHg)\\n    observationtime TIMESTAMP(0) NOT NULL, -- Time of observation\\n    FOREIGN KEY(patientunitstayid) REFERENCES patient(patientunitstayid)\\n);',\n",
       "  'distance': 1.539096474647522},\n",
       " {'block_id': 2,\n",
       "  'content': 'DROP TABLE IF EXISTS treatment;\\nCREATE TABLE treatment  -- store treatments administered during ICU stay\\n(\\n    treatmentid INT NOT NULL PRIMARY KEY, -- Unique treatment record ID\\n    patientunitstayid INT NOT NULL, -- ICU stay ID (FK to patient)\\n    treatmentname VARCHAR(200) NOT NULL, -- Name of the treatment administered (lowercase)\\n    treatmenttime TIMESTAMP(0) NOT NULL, -- Time the treatment was given\\n    FOREIGN KEY(patientunitstayid) REFERENCES patient(patientunitstayid)\\n);',\n",
       "  'distance': 1.5698225498199463},\n",
       " {'block_id': 1,\n",
       "  'content': 'DROP TABLE IF EXISTS diagnosis;\\nCREATE TABLE diagnosis  -- store diagnoses assigned during ICU stay\\n(\\n    diagnosisid INT NOT NULL PRIMARY KEY, -- Unique diagnosis record ID\\n    patientunitstayid INT NOT NULL, -- ICU stay ID (FK to patient)\\n    diagnosisname VARCHAR(200) NOT NULL, -- Full name of diagnosis (lowercase)\\n    diagnosistime TIMESTAMP(0) NOT NULL, -- Time diagnosis was recorded\\n    icd9code VARCHAR(100), -- ICD-9 code of the diagnosis\\n    FOREIGN KEY(patientunitstayid) REFERENCES patient(patientunitstayid)\\n);',\n",
       "  'distance': 1.6217906475067139},\n",
       " {'block_id': 7,\n",
       "  'content': 'DROP TABLE IF EXISTS intakeoutput;\\nCREATE TABLE intakeoutput  -- store intake/output measurements (fluids, urine, etc.)\\n(\\n    intakeoutputid INT NOT NULL PRIMARY KEY, -- Unique intake/output record ID\\n    patientunitstayid INT NOT NULL, -- ICU stay ID (FK to patient)\\n    cellpath VARCHAR(500) NOT NULL, -- Hierarchical label/path (lowercase)   \\n    celllabel VARCHAR(255) NOT NULL, -- Label describing the intake/output (lowercase)\\n    cellvaluenumeric NUMERIC(12,4) NOT NULL, -- Volume or quantity recorded\\n    intakeoutputtime TIMESTAMP(0) NOT NULL, -- Time of measurement\\n    FOREIGN KEY(patientunitstayid) REFERENCES patient(patientunitstayid)\\n);',\n",
       "  'distance': 1.6296038627624512}]"
      ]
     },
     "execution_count": 31,
     "metadata": {},
     "output_type": "execute_result"
    }
   ],
   "source": [
    "result = retriever.retrieve(\n",
    "    query = \"tell me the method of intake of oxycodone hcl 5 mg po tabs (range) prn?\",\n",
    "    top_k = 5 \n",
    ")\n",
    "result"
   ]
  },
  {
   "cell_type": "code",
   "execution_count": null,
   "id": "e79f9cb0",
   "metadata": {},
   "outputs": [
    {
     "name": "stdout",
     "output_type": "stream",
     "text": [
      "DROP TABLE IF EXISTS medication;\n",
      "CREATE TABLE medication  -- store medication administration records\n",
      "(\n",
      "    medicationid INT NOT NULL PRIMARY KEY, -- Unique medication record ID\n",
      "    patientunitstayid INT NOT NULL, -- ICU stay ID (FK to patient)\n",
      "    drugname VARCHAR(220) NOT NULL, -- Name of the medication (lowercase)\n",
      "    dosage VARCHAR(60) NOT NULL, -- Dosage of the drug\n",
      "    routeadmin VARCHAR(120) NOT NULL, -- Route of administration (e.g., \"iv\", \"po\", ...etc) (lowercase)\n",
      "    drugstarttime TIMESTAMP(0), -- Time drug administration started\n",
      "    drugstoptime TIMESTAMP(0), -- Time drug administration stopped\n",
      "    FOREIGN KEY(patientunitstayid) REFERENCES patient(patientunitstayid)\n",
      ");\n",
      "DROP TABLE IF EXISTS vitalperiodic;\n",
      "CREATE TABLE vitalperiodic  -- store periodic vital signs measured during ICU stay\n",
      "(\n",
      "    vitalperiodicid BIGINT NOT NULL PRIMARY KEY, -- Unique ID for vital sign entry\n",
      "    patientunitstayid INT NOT NULL, -- ICU stay ID (FK to patient)\n",
      "    temperature NUMERIC(11,4), -- Body temperature (Celsius)\n",
      "    sao2 INT, -- Oxygen saturation (%)\n",
      "    heartrate INT, -- Heart rate (bpm)\n",
      "    respiration INT, -- Respiratory rate (breaths per minute)\n",
      "    systemicsystolic INT, -- Systolic blood pressure (mmHg)\n",
      "    systemicdiastolic INT, -- Diastolic blood pressure (mmHg)\n",
      "    systemicmean INT, -- Mean arterial pressure (mmHg)\n",
      "    observationtime TIMESTAMP(0) NOT NULL, -- Time of observation\n",
      "    FOREIGN KEY(patientunitstayid) REFERENCES patient(patientunitstayid)\n",
      ");\n",
      "DROP TABLE IF EXISTS treatment;\n",
      "CREATE TABLE treatment  -- store treatments administered during ICU stay\n",
      "(\n",
      "    treatmentid INT NOT NULL PRIMARY KEY, -- Unique treatment record ID\n",
      "    patientunitstayid INT NOT NULL, -- ICU stay ID (FK to patient)\n",
      "    treatmentname VARCHAR(200) NOT NULL, -- Name of the treatment administered (lowercase)\n",
      "    treatmenttime TIMESTAMP(0) NOT NULL, -- Time the treatment was given\n",
      "    FOREIGN KEY(patientunitstayid) REFERENCES patient(patientunitstayid)\n",
      ");\n",
      "DROP TABLE IF EXISTS diagnosis;\n",
      "CREATE TABLE diagnosis  -- store diagnoses assigned during ICU stay\n",
      "(\n",
      "    diagnosisid INT NOT NULL PRIMARY KEY, -- Unique diagnosis record ID\n",
      "    patientunitstayid INT NOT NULL, -- ICU stay ID (FK to patient)\n",
      "    diagnosisname VARCHAR(200) NOT NULL, -- Full name of diagnosis (lowercase)\n",
      "    diagnosistime TIMESTAMP(0) NOT NULL, -- Time diagnosis was recorded\n",
      "    icd9code VARCHAR(100), -- ICD-9 code of the diagnosis\n",
      "    FOREIGN KEY(patientunitstayid) REFERENCES patient(patientunitstayid)\n",
      ");\n",
      "DROP TABLE IF EXISTS intakeoutput;\n",
      "CREATE TABLE intakeoutput  -- store intake/output measurements (fluids, urine, etc.)\n",
      "(\n",
      "    intakeoutputid INT NOT NULL PRIMARY KEY, -- Unique intake/output record ID\n",
      "    patientunitstayid INT NOT NULL, -- ICU stay ID (FK to patient)\n",
      "    cellpath VARCHAR(500) NOT NULL, -- Hierarchical label/path (lowercase)   \n",
      "    celllabel VARCHAR(255) NOT NULL, -- Label describing the intake/output (lowercase)\n",
      "    cellvaluenumeric NUMERIC(12,4) NOT NULL, -- Volume or quantity recorded\n",
      "    intakeoutputtime TIMESTAMP(0) NOT NULL, -- Time of measurement\n",
      "    FOREIGN KEY(patientunitstayid) REFERENCES patient(patientunitstayid)\n",
      ");\n"
     ]
    }
   ],
   "source": [
    "# similarly, you can clean up like this \n",
    "result_clean = '\\n'.join([r['content'] for r in result])\n",
    "print(result_clean)"
   ]
  },
  {
   "cell_type": "markdown",
   "id": "52910996",
   "metadata": {},
   "source": [
    "Now you can take it to embed into your prompt"
   ]
  },
  {
   "cell_type": "markdown",
   "id": "269dbf71",
   "metadata": {},
   "source": [
    "## Additional examples\n",
    "\n",
    "\n",
    "1. For a end-to-end with demo with eICU datset, including retrieval and benchmarking, see [private repository](https://github.com/xinyu-dev/vrdc_text2sql)\n",
    "2. To explore faiss_cpu_vs_gpu speed up, see `2.faiss_cpu_vs_gpu.ipynb`"
   ]
  },
  {
   "cell_type": "markdown",
   "id": "2a18d611",
   "metadata": {},
   "source": []
  }
 ],
 "metadata": {
  "kernelspec": {
   "display_name": "workspace",
   "language": "python",
   "name": "python3"
  },
  "language_info": {
   "codemirror_mode": {
    "name": "ipython",
    "version": 3
   },
   "file_extension": ".py",
   "mimetype": "text/x-python",
   "name": "python",
   "nbconvert_exporter": "python",
   "pygments_lexer": "ipython3",
   "version": "3.12.3"
  }
 },
 "nbformat": 4,
 "nbformat_minor": 5
}
